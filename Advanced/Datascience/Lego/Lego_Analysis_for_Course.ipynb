{
  "cells": [
    {
      "attachments": {},
      "cell_type": "markdown",
      "metadata": {
        "colab_type": "text",
        "dc": {
          "key": "1d0b086e6c"
        },
        "id": "s9JLDE8NIquP",
        "run_control": {
          "frozen": true
        },
        "tags": [
          "context"
        ]
      },
      "source": [
        "# Introduction\n",
        "\n",
        "Today we'll dive deep into a dataset all about LEGO. From the dataset we can ask whole bunch of interesting questions about the history of the LEGO company, their product offering, and which LEGO set ultimately rules them all:\n",
        "\n",
        "<ul type=\"square\">\n",
        "<li>What is the most enormous LEGO set ever created and how many parts did it have?</li>\n",
        "\n",
        "<li>How did the LEGO company start out? In which year were the first LEGO sets released and how many sets did the company sell when it first launched?</li>\n",
        "\n",
        "<li>Which LEGO theme has the most sets? Is it one of LEGO's own themes like Ninjago or a theme they licensed liked Harry Potter or Marvel Superheroes?</li>\n",
        "\n",
        "<li>When did the LEGO company really expand its product offering? Can we spot a change in the company strategy based on how many themes and sets did it released year-on-year?</li>\n",
        "\n",
        "<li>Did LEGO sets grow in size and complexity over time? Do older LEGO \n",
        "sets tend to have more or fewer parts than newer sets?</li>\n",
        "</ul>\n",
        "\n",
        "**Data Source**\n",
        "\n",
        "[Rebrickable](https://rebrickable.com/downloads/) has compiled data on all the LEGO pieces in existence. I recommend you use download the .csv files provided in this lesson. "
      ]
    },
    {
      "attachments": {},
      "cell_type": "markdown",
      "metadata": {
        "colab_type": "text",
        "id": "V0u2lGJuIquQ"
      },
      "source": [
        "# Import Statements"
      ]
    },
    {
      "cell_type": "code",
      "execution_count": 333,
      "metadata": {
        "colab": {},
        "colab_type": "code",
        "id": "z5Wk7rs-IquQ"
      },
      "outputs": [],
      "source": [
        "import pandas as pd\n",
        "from datetime import datetime\n",
        "import matplotlib.pyplot as plt\n",
        "#mac\n",
        "# dfcolors = pd.read_csv(\"/Users/henripeters/Documents/Projetperso/Python100day/Advanced/Datascience/Lego/data/colors.csv\")\n",
        "# dfsets = pd.read_csv(\"/Users/henripeters/Documents/Projetperso/Python100day/Advanced/Datascience/Lego/data/sets.csv\")\n",
        "# dfthemes = pd.read_csv(\"/Users/henripeters/Documents/Projetperso/Python100day/Advanced/Datascience/Lego/data/themes.csv\")\n",
        "#windows\n",
        "dfcolors = pd.read_csv(\"C:/Users/henri.peters/Documents/perso/Python100day/Advanced/Datascience/Lego/data/colors.csv\")\n",
        "dfsets = pd.read_csv(\"C:/Users/henri.peters/Documents/perso/Python100day/Advanced/Datascience/Lego/data/sets.csv\")\n",
        "dfthemes = pd.read_csv(\"C:/Users/henri.peters/Documents/perso/Python100day/Advanced/Datascience/Lego/data/themes.csv\")"
      ]
    },
    {
      "attachments": {},
      "cell_type": "markdown",
      "metadata": {
        "colab_type": "text",
        "id": "R5NQpJ_KIquT"
      },
      "source": [
        "# Data Exploration"
      ]
    },
    {
      "attachments": {},
      "cell_type": "markdown",
      "metadata": {
        "colab_type": "text",
        "dc": {
          "key": "044b2cef41"
        },
        "id": "ffaG-UFYIquT",
        "run_control": {
          "frozen": true
        },
        "tags": [
          "context"
        ]
      },
      "source": [
        "**Challenge**: How many different colours does the LEGO company produce? Read the colors.csv file in the data folder and find the total number of unique colours. Try using the [.nunique() method](https://pandas.pydata.org/pandas-docs/stable/reference/api/pandas.DataFrame.nunique.html?highlight=nunique#pandas.DataFrame.nunique) to accomplish this."
      ]
    },
    {
      "cell_type": "code",
      "execution_count": 334,
      "metadata": {
        "colab": {},
        "colab_type": "code",
        "id": "yd4G9pK7IquU"
      },
      "outputs": [
        {
          "name": "stdout",
          "output_type": "stream",
          "text": [
            "   id            name     rgb is_trans\n",
            "0  -1         Unknown  0033B2        f\n",
            "1   0           Black  05131D        f\n",
            "2   1            Blue  0055BF        f\n",
            "3   2           Green  237841        f\n",
            "4   3  Dark Turquoise  008F9B        f\n",
            "name\n",
            "Aqua               B3D7D1\n",
            "Black              05131D\n",
            "Blue               0055BF\n",
            "Blue-Violet        6874CA\n",
            "Bright Green       4B9F4A\n",
            "                    ...  \n",
            "Violet             4354A3\n",
            "White              FFFFFF\n",
            "Yellow             F2CD37\n",
            "Yellowish Green    DFEEA5\n",
            "[No Color]         05131D\n",
            "Name: rgb, Length: 135, dtype: object\n"
          ]
        }
      ],
      "source": [
        "print(dfcolors.head())\n",
        "print(dfcolors.groupby('name')['rgb'].sum())"
      ]
    },
    {
      "cell_type": "code",
      "execution_count": 335,
      "metadata": {
        "colab": {},
        "colab_type": "code",
        "dc": {
          "key": "044b2cef41"
        },
        "id": "QmbAXax7IquW",
        "tags": []
      },
      "outputs": [
        {
          "data": {
            "text/plain": [
              "135"
            ]
          },
          "execution_count": 335,
          "metadata": {},
          "output_type": "execute_result"
        }
      ],
      "source": [
        "dfcolors['name'].nunique()"
      ]
    },
    {
      "cell_type": "code",
      "execution_count": 336,
      "metadata": {
        "colab": {},
        "colab_type": "code",
        "dc": {
          "key": "15c1e2ce38"
        },
        "id": "SMc2sKiIIquY",
        "tags": [
          "sample_code"
        ]
      },
      "outputs": [
        {
          "name": "stdout",
          "output_type": "stream",
          "text": [
            "   id            name  parent_id\n",
            "0   1         Technic        NaN\n",
            "1   2  Arctic Technic        1.0\n",
            "2   3     Competition        1.0\n",
            "3   4  Expert Builder        1.0\n",
            "4   5           Model        1.0\n"
          ]
        }
      ],
      "source": [
        "print(dfthemes.head())"
      ]
    },
    {
      "attachments": {},
      "cell_type": "markdown",
      "metadata": {
        "colab_type": "text",
        "dc": {
          "key": "a5723ae5c2"
        },
        "id": "PItRbqgcIqua",
        "run_control": {
          "frozen": true
        },
        "tags": [
          "context"
        ]
      },
      "source": [
        "**Challenge**: Find the number of transparent colours where <code>is_trans == 't'</code> versus the number of opaque colours where <code>is_trans == 'f'</code>. See if you can accomplish this in two different ways."
      ]
    },
    {
      "cell_type": "code",
      "execution_count": 337,
      "metadata": {
        "colab": {},
        "colab_type": "code",
        "id": "1UZrfq82Iqub"
      },
      "outputs": [
        {
          "data": {
            "text/plain": [
              "28"
            ]
          },
          "execution_count": 337,
          "metadata": {},
          "output_type": "execute_result"
        }
      ],
      "source": [
        "(dfcolors['is_trans'] == 't').sum()"
      ]
    },
    {
      "cell_type": "code",
      "execution_count": 338,
      "metadata": {
        "colab": {},
        "colab_type": "code",
        "id": "KQFf-leCIqud"
      },
      "outputs": [
        {
          "data": {
            "text/html": [
              "<div>\n",
              "<style scoped>\n",
              "    .dataframe tbody tr th:only-of-type {\n",
              "        vertical-align: middle;\n",
              "    }\n",
              "\n",
              "    .dataframe tbody tr th {\n",
              "        vertical-align: top;\n",
              "    }\n",
              "\n",
              "    .dataframe thead th {\n",
              "        text-align: right;\n",
              "    }\n",
              "</style>\n",
              "<table border=\"1\" class=\"dataframe\">\n",
              "  <thead>\n",
              "    <tr style=\"text-align: right;\">\n",
              "      <th></th>\n",
              "      <th>id</th>\n",
              "      <th>name</th>\n",
              "      <th>rgb</th>\n",
              "    </tr>\n",
              "    <tr>\n",
              "      <th>is_trans</th>\n",
              "      <th></th>\n",
              "      <th></th>\n",
              "      <th></th>\n",
              "    </tr>\n",
              "  </thead>\n",
              "  <tbody>\n",
              "    <tr>\n",
              "      <th>f</th>\n",
              "      <td>107</td>\n",
              "      <td>107</td>\n",
              "      <td>107</td>\n",
              "    </tr>\n",
              "    <tr>\n",
              "      <th>t</th>\n",
              "      <td>28</td>\n",
              "      <td>28</td>\n",
              "      <td>28</td>\n",
              "    </tr>\n",
              "  </tbody>\n",
              "</table>\n",
              "</div>"
            ],
            "text/plain": [
              "           id  name  rgb\n",
              "is_trans                \n",
              "f         107   107  107\n",
              "t          28    28   28"
            ]
          },
          "execution_count": 338,
          "metadata": {},
          "output_type": "execute_result"
        }
      ],
      "source": [
        "dfcolors.groupby('is_trans').count()"
      ]
    },
    {
      "attachments": {},
      "cell_type": "markdown",
      "metadata": {
        "colab_type": "text",
        "id": "TMqdhUYcusfy"
      },
      "source": [
        "<h3>Understanding LEGO Themes vs. LEGO Sets</h3>"
      ]
    },
    {
      "attachments": {},
      "cell_type": "markdown",
      "metadata": {
        "colab_type": "text",
        "id": "y0kxCh63uwOv"
      },
      "source": [
        "Walk into a LEGO store and you will see their products organised by theme. Their themes include Star Wars, Batman, Harry Potter and many more.\n",
        "\n",
        "\n",
        "<img src=\"https://i.imgur.com/aKcwkSx.png\">"
      ]
    },
    {
      "attachments": {},
      "cell_type": "markdown",
      "metadata": {
        "colab_type": "text",
        "dc": {
          "key": "c9d0e58653"
        },
        "id": "u_xkZUF8Iqug",
        "run_control": {
          "frozen": true
        },
        "tags": [
          "context"
        ]
      },
      "source": [
        "A lego set is a particular box of LEGO or product. Therefore, a single theme typically has many different sets.\n",
        "\n",
        "<img src=\"https://i.imgur.com/whB1olq.png \">"
      ]
    },
    {
      "attachments": {},
      "cell_type": "markdown",
      "metadata": {
        "colab_type": "text",
        "id": "jJTAROe5unkx"
      },
      "source": [
        "The <code>sets.csv</code> data contains a list of sets over the years and the number of parts that each of these sets contained.\n",
        "\n",
        "**Challenge**: Read the sets.csv data and take a look at the first and last couple of rows. "
      ]
    },
    {
      "cell_type": "code",
      "execution_count": 339,
      "metadata": {
        "colab": {},
        "colab_type": "code",
        "id": "vGMOv-NRIquh"
      },
      "outputs": [
        {
          "name": "stdout",
          "output_type": "stream",
          "text": [
            "  set_num                        name  year  theme_id  num_parts\n",
            "0   001-1                       Gears  1965         1         43\n",
            "1  0011-2           Town Mini-Figures  1978        84         12\n",
            "2  0011-3  Castle 2 for 1 Bonus Offer  1987       199          0\n",
            "3  0012-1          Space Mini-Figures  1979       143         12\n",
            "4  0013-1          Space Mini-Figures  1979       143         12\n"
          ]
        }
      ],
      "source": [
        "print(dfsets.head())"
      ]
    },
    {
      "cell_type": "code",
      "execution_count": 340,
      "metadata": {
        "colab": {},
        "colab_type": "code",
        "id": "T3lLFvyZIqui"
      },
      "outputs": [
        {
          "name": "stdout",
          "output_type": "stream",
          "text": [
            "           set_num                                 name  year  theme_id  \\\n",
            "15705      wwgp1-1  Wild West Limited Edition Gift Pack  1996       476   \n",
            "15706   XMASTREE-1                       Christmas Tree  2019       410   \n",
            "15707      XWING-1                  Mini X-Wing Fighter  2019       158   \n",
            "15708      XWING-2                    X-Wing Trench Run  2019       158   \n",
            "15709  YODACHRON-1      Yoda Chronicles Promotional Set  2013       158   \n",
            "\n",
            "       num_parts  \n",
            "15705          0  \n",
            "15706         26  \n",
            "15707         60  \n",
            "15708         52  \n",
            "15709        413  \n"
          ]
        }
      ],
      "source": [
        "print(dfsets.tail())"
      ]
    },
    {
      "cell_type": "code",
      "execution_count": null,
      "metadata": {
        "colab": {},
        "colab_type": "code",
        "id": "XprDBmzwIquk"
      },
      "outputs": [],
      "source": []
    },
    {
      "attachments": {},
      "cell_type": "markdown",
      "metadata": {
        "colab_type": "text",
        "id": "ez-UXSMUIqum"
      },
      "source": [
        "**Challenge**: In which year were the first LEGO sets released and what were these sets called?"
      ]
    },
    {
      "cell_type": "code",
      "execution_count": 341,
      "metadata": {
        "colab": {},
        "colab_type": "code",
        "id": "s2aL6qrGIqum"
      },
      "outputs": [
        {
          "name": "stdout",
          "output_type": "stream",
          "text": [
            "      set_num                               name  year  theme_id  num_parts\n",
            "9521  700.1-1         Extra-Large Gift Set (ABB)  1949       365        142\n",
            "9534  700.2-1               Large Gift Set (ABB)  1949       365        178\n",
            "9539  700.3-1              Medium Gift Set (ABB)  1949       365        142\n",
            "9544  700.A-1              Small Brick Set (ABB)  1949       371         24\n",
            "9545  700.B-1  Small Doors and Windows Set (ABB)  1949       371         12\n"
          ]
        }
      ],
      "source": [
        "dfsets.sort_values(by='year', inplace=True)\n",
        "print(dfsets[dfsets['year']==min(dfsets['year'])])"
      ]
    },
    {
      "attachments": {},
      "cell_type": "markdown",
      "metadata": {
        "colab_type": "text",
        "id": "JJoK3M8TBAVU"
      },
      "source": [
        "**Challenge**: How many different sets did LEGO sell in their first year? How many types of LEGO products were on offer in the year the company started?"
      ]
    },
    {
      "cell_type": "code",
      "execution_count": 342,
      "metadata": {
        "colab": {},
        "colab_type": "code",
        "id": "h-Tf1w7IBBg9"
      },
      "outputs": [
        {
          "name": "stdout",
          "output_type": "stream",
          "text": [
            "5\n"
          ]
        }
      ],
      "source": [
        "print(dfsets[dfsets['year']==min(dfsets['year'])].shape[0])"
      ]
    },
    {
      "attachments": {},
      "cell_type": "markdown",
      "metadata": {
        "colab_type": "text",
        "id": "RJMMYQYqIquo"
      },
      "source": [
        "**Challenge**: Find the top 5 LEGO sets with the most number of parts. "
      ]
    },
    {
      "cell_type": "code",
      "execution_count": 343,
      "metadata": {
        "colab": {},
        "colab_type": "code",
        "id": "toJvjRuQIqup"
      },
      "outputs": [
        {
          "name": "stdout",
          "output_type": "stream",
          "text": [
            "        set_num                           name  year  theme_id  num_parts\n",
            "15004  BIGBOX-1  The Ultimate Battle for Chima  2015       571       9987\n",
            "11183   75192-1          UCS Millennium Falcon  2017       171       7541\n",
            "10551   71043-1                Hogwarts Castle  2018       246       6020\n",
            "295     10256-1                      Taj Mahal  2017       673       5923\n",
            "221     10189-1                      Taj Mahal  2008       673       5922\n"
          ]
        }
      ],
      "source": [
        "dfsets.sort_values(by='num_parts', inplace=True,ascending=False)\n",
        "print(dfsets.head())"
      ]
    },
    {
      "attachments": {},
      "cell_type": "markdown",
      "metadata": {
        "colab_type": "text",
        "id": "uSyhOzAHIqur"
      },
      "source": [
        "**Challenge**: Use <code>.groupby()</code> and <code>.count()</code> to show the number of LEGO sets released year-on-year. How do the number of sets released in 1955 compare to the number of sets released in 2019? "
      ]
    },
    {
      "cell_type": "code",
      "execution_count": 344,
      "metadata": {
        "colab": {},
        "colab_type": "code",
        "id": "qjdrktZAIqus",
        "scrolled": true
      },
      "outputs": [],
      "source": [
        "countperyear = dfsets.groupby(\"year\")['set_num'].count()"
      ]
    },
    {
      "cell_type": "code",
      "execution_count": 345,
      "metadata": {
        "colab": {},
        "colab_type": "code",
        "id": "tFInsHOkIqut"
      },
      "outputs": [
        {
          "name": "stdout",
          "output_type": "stream",
          "text": [
            "      set_num\n",
            "year         \n",
            "1949        5\n",
            "1950        6\n",
            "1953        4\n",
            "1954       14\n",
            "1955       28\n",
            "...       ...\n",
            "2017      786\n",
            "2018      816\n",
            "2019      840\n",
            "2020      674\n",
            "2021        3\n",
            "\n",
            "[71 rows x 1 columns]\n"
          ]
        }
      ],
      "source": [
        "\n",
        "countperyear=pd.DataFrame(countperyear)\n",
        "# Rename all columns\n",
        "\n",
        "print(countperyear)\n",
        "\n"
      ]
    },
    {
      "attachments": {},
      "cell_type": "markdown",
      "metadata": {
        "colab_type": "text",
        "id": "xJrmIOULIquv"
      },
      "source": [
        "**Challenge**: Show the number of LEGO releases on a line chart using Matplotlib. <br>\n",
        "<br>\n",
        "Note that the .csv file is from late 2020, so to plot the full calendar years, you will have to exclude some data from your chart. Can you use the slicing techniques covered in Day 21 to avoid plotting the last two years? The same syntax will work on Pandas DataFrames. "
      ]
    },
    {
      "cell_type": "code",
      "execution_count": 346,
      "metadata": {
        "colab": {},
        "colab_type": "code",
        "id": "Nckj4lSGIquw"
      },
      "outputs": [
        {
          "data": {
            "text/plain": [
              "[<matplotlib.lines.Line2D at 0x23bb8b36e90>]"
            ]
          },
          "execution_count": 346,
          "metadata": {},
          "output_type": "execute_result"
        },
        {
          "data": {
            "image/png": "[encoded data removed]",
            "text/plain": [
              "<Figure size 1000x600 with 1 Axes>"
            ]
          },
          "metadata": {},
          "output_type": "display_data"
        }
      ],
      "source": [
        "plt.figure(figsize=(10,6))\n",
        "plt.xlabel('Date', fontsize=14)\n",
        "plt.ylabel('Number of Posts', fontsize=14)\n",
        "plt.xlim(xmin=countperyear.index[0], xmax=countperyear.index[-3])\n",
        "\n",
        "plt.plot(countperyear.index, countperyear['set_num'], linewidth=1)\n",
        "\n"
      ]
    },
    {
      "cell_type": "code",
      "execution_count": null,
      "metadata": {
        "colab": {},
        "colab_type": "code",
        "id": "_ZqAN-5MIquz"
      },
      "outputs": [],
      "source": []
    },
    {
      "attachments": {},
      "cell_type": "markdown",
      "metadata": {
        "colab_type": "text",
        "id": "xrDeNYYXIqu1"
      },
      "source": [
        "### Aggregate Data with the Python .agg() Function\n",
        "\n",
        "Let's work out the number of different themes shipped by year. This means we have to count the number of unique theme_ids per calendar year."
      ]
    },
    {
      "cell_type": "code",
      "execution_count": 347,
      "metadata": {
        "colab": {},
        "colab_type": "code",
        "dc": {
          "key": "266a3f390c"
        },
        "id": "qx8pTau4Iqu2",
        "tags": [
          "sample_code"
        ]
      },
      "outputs": [
        {
          "data": {
            "text/html": [
              "<div>\n",
              "<style scoped>\n",
              "    .dataframe tbody tr th:only-of-type {\n",
              "        vertical-align: middle;\n",
              "    }\n",
              "\n",
              "    .dataframe tbody tr th {\n",
              "        vertical-align: top;\n",
              "    }\n",
              "\n",
              "    .dataframe thead th {\n",
              "        text-align: right;\n",
              "    }\n",
              "</style>\n",
              "<table border=\"1\" class=\"dataframe\">\n",
              "  <thead>\n",
              "    <tr style=\"text-align: right;\">\n",
              "      <th></th>\n",
              "      <th>id</th>\n",
              "      <th>name</th>\n",
              "      <th>parent_id</th>\n",
              "    </tr>\n",
              "  </thead>\n",
              "  <tbody>\n",
              "    <tr>\n",
              "      <th>0</th>\n",
              "      <td>1</td>\n",
              "      <td>Technic</td>\n",
              "      <td>NaN</td>\n",
              "    </tr>\n",
              "    <tr>\n",
              "      <th>1</th>\n",
              "      <td>2</td>\n",
              "      <td>Arctic Technic</td>\n",
              "      <td>1.0</td>\n",
              "    </tr>\n",
              "    <tr>\n",
              "      <th>2</th>\n",
              "      <td>3</td>\n",
              "      <td>Competition</td>\n",
              "      <td>1.0</td>\n",
              "    </tr>\n",
              "    <tr>\n",
              "      <th>3</th>\n",
              "      <td>4</td>\n",
              "      <td>Expert Builder</td>\n",
              "      <td>1.0</td>\n",
              "    </tr>\n",
              "    <tr>\n",
              "      <th>4</th>\n",
              "      <td>5</td>\n",
              "      <td>Model</td>\n",
              "      <td>1.0</td>\n",
              "    </tr>\n",
              "  </tbody>\n",
              "</table>\n",
              "</div>"
            ],
            "text/plain": [
              "   id            name  parent_id\n",
              "0   1         Technic        NaN\n",
              "1   2  Arctic Technic        1.0\n",
              "2   3     Competition        1.0\n",
              "3   4  Expert Builder        1.0\n",
              "4   5           Model        1.0"
            ]
          },
          "execution_count": 347,
          "metadata": {},
          "output_type": "execute_result"
        }
      ],
      "source": [
        "dfthemes.head()"
      ]
    },
    {
      "cell_type": "code",
      "execution_count": 348,
      "metadata": {
        "colab": {},
        "colab_type": "code",
        "id": "BqF1o997Iqu3"
      },
      "outputs": [
        {
          "data": {
            "text/plain": [
              "year\n",
              "1949     2\n",
              "1950     1\n",
              "1953     2\n",
              "1954     2\n",
              "1955     4\n",
              "        ..\n",
              "2017    89\n",
              "2018    93\n",
              "2019    78\n",
              "2020    82\n",
              "2021     1\n",
              "Name: theme_id, Length: 71, dtype: int64"
            ]
          },
          "execution_count": 348,
          "metadata": {},
          "output_type": "execute_result"
        }
      ],
      "source": [
        "dfsets.groupby('year')['theme_id'].nunique()"
      ]
    },
    {
      "attachments": {},
      "cell_type": "markdown",
      "metadata": {
        "colab_type": "text",
        "id": "immCqqw1Iqu5"
      },
      "source": [
        "**Challenge**: Plot the number of themes released by year on a line chart. Only include the full calendar years (i.e., exclude 2020 and 2021). "
      ]
    },
    {
      "cell_type": "code",
      "execution_count": 349,
      "metadata": {
        "colab": {},
        "colab_type": "code",
        "id": "r2pamQEkIqu5"
      },
      "outputs": [],
      "source": [
        "countperyear=pd.DataFrame(dfsets.groupby('year')['theme_id'].nunique())"
      ]
    },
    {
      "attachments": {},
      "cell_type": "markdown",
      "metadata": {
        "colab_type": "text",
        "id": "uBbt9-lJIqu7"
      },
      "source": [
        "### Line Charts with Two Seperate Axes"
      ]
    },
    {
      "cell_type": "code",
      "execution_count": 350,
      "metadata": {
        "colab": {},
        "colab_type": "code",
        "id": "j7lQ_amFIqu7"
      },
      "outputs": [
        {
          "data": {
            "text/plain": [
              "[<matplotlib.lines.Line2D at 0x23bb8bb3910>]"
            ]
          },
          "execution_count": 350,
          "metadata": {},
          "output_type": "execute_result"
        },
        {
          "data": {
            "image/png": "[encoded data removed]",
            "text/plain": [
              "<Figure size 1000x600 with 1 Axes>"
            ]
          },
          "metadata": {},
          "output_type": "display_data"
        }
      ],
      "source": [
        "plt.figure(figsize=(10,6))\n",
        "plt.xlabel('Date', fontsize=14)\n",
        "plt.ylabel('Number of Posts', fontsize=14)\n",
        "plt.xlim(xmin=countperyear.index[0], xmax=countperyear.index[-3])\n",
        "\n",
        "plt.plot(countperyear.index, countperyear['theme_id'], linewidth=1)\n",
        "\n"
      ]
    },
    {
      "attachments": {},
      "cell_type": "markdown",
      "metadata": {
        "colab_type": "text",
        "id": "7BHYaUf-Iqu9"
      },
      "source": [
        "**Challenge**: Use the <code>.groupby()</code> and <code>.agg()</code> function together to figure out the average number of parts per set. How many parts did the average LEGO set released in 1954 compared to say, 2017?"
      ]
    },
    {
      "cell_type": "code",
      "execution_count": 351,
      "metadata": {
        "colab": {},
        "colab_type": "code",
        "id": "W7BcH9vuIqu9"
      },
      "outputs": [
        {
          "data": {
            "text/plain": [
              "year\n",
              "1949     99.600000\n",
              "1950      1.000000\n",
              "1953     13.500000\n",
              "1954     12.357143\n",
              "1955     36.607143\n",
              "           ...    \n",
              "2017    221.840967\n",
              "2018    213.618873\n",
              "2019    207.510714\n",
              "2020    259.732938\n",
              "2021      0.000000\n",
              "Name: num_parts, Length: 71, dtype: float64"
            ]
          },
          "execution_count": 351,
          "metadata": {},
          "output_type": "execute_result"
        }
      ],
      "source": [
        "dfsets.groupby('year')['num_parts'].mean()"
      ]
    },
    {
      "cell_type": "code",
      "execution_count": 352,
      "metadata": {
        "colab": {},
        "colab_type": "code",
        "id": "fjbb3tZcIqu_"
      },
      "outputs": [
        {
          "name": "stdout",
          "output_type": "stream",
          "text": [
            "     num_parts            \n",
            "           sum        mean\n",
            "year                      \n",
            "1949       498   99.600000\n",
            "1950         6    1.000000\n",
            "1953        54   13.500000\n",
            "1954       173   12.357143\n",
            "1955      1025   36.607143\n",
            "...        ...         ...\n",
            "2017    174367  221.840967\n",
            "2018    174313  213.618873\n",
            "2019    174309  207.510714\n",
            "2020    175060  259.732938\n",
            "2021         0    0.000000\n",
            "\n",
            "[71 rows x 2 columns]\n"
          ]
        },
        {
          "data": {
            "text/plain": [
              "MultiIndex([('num_parts',  'sum'),\n",
              "            ('num_parts', 'mean')],\n",
              "           )"
            ]
          },
          "execution_count": 352,
          "metadata": {},
          "output_type": "execute_result"
        }
      ],
      "source": [
        "aggregated_data = dfsets.groupby('year').agg({'num_parts': ['sum', 'mean']})\n",
        "\n",
        "aggregated_data = pd.DataFrame(aggregated_data)\n",
        "print(aggregated_data)\n",
        "aggregated_data.columns\n"
      ]
    },
    {
      "attachments": {},
      "cell_type": "markdown",
      "metadata": {
        "colab_type": "text",
        "id": "bAeTe2XqIqvB"
      },
      "source": [
        "### Scatter Plots in Matplotlib"
      ]
    },
    {
      "attachments": {},
      "cell_type": "markdown",
      "metadata": {
        "colab_type": "text",
        "id": "SAViZ_TYIqvB"
      },
      "source": [
        "**Challenge**: Has the size and complexity of LEGO sets increased over time based on the number of parts? Plot the average number of parts over time using a Matplotlib scatter plot. See if you can use the [scatter plot documentation](https://matplotlib.org/3.1.0/api/_as_gen/matplotlib.pyplot.scatter.html) before I show you the solution. Do you spot a trend in the chart? "
      ]
    },
    {
      "cell_type": "code",
      "execution_count": 353,
      "metadata": {
        "colab": {},
        "colab_type": "code",
        "id": "EQNZ0D7JIqvB"
      },
      "outputs": [
        {
          "data": {
            "text/plain": [
              "<matplotlib.collections.PathCollection at 0x23bad173490>"
            ]
          },
          "execution_count": 353,
          "metadata": {},
          "output_type": "execute_result"
        },
        {
          "data": {
            "image/png": "[encoded data removed]",
            "text/plain": [
              "<Figure size 640x480 with 1 Axes>"
            ]
          },
          "metadata": {},
          "output_type": "display_data"
        }
      ],
      "source": [
        "plt.xlim(xmin=countperyear.index[0], xmax=countperyear.index[-3])\n",
        "plt.scatter(aggregated_data.index, aggregated_data[('num_parts', 'mean')], color='red')"
      ]
    },
    {
      "attachments": {},
      "cell_type": "markdown",
      "metadata": {
        "colab_type": "text",
        "id": "xK226Ip-IqvE"
      },
      "source": [
        "### Number of Sets per LEGO Theme"
      ]
    },
    {
      "attachments": {},
      "cell_type": "markdown",
      "metadata": {
        "colab_type": "text",
        "id": "VKHa1FePIqvE"
      },
      "source": [
        "LEGO has licensed many hit franchises from Harry Potter to Marvel Super Heros to many others. But which theme has the largest number of individual sets? "
      ]
    },
    {
      "cell_type": "code",
      "execution_count": 354,
      "metadata": {
        "colab": {},
        "colab_type": "code",
        "id": "hOBcNrC9IqvE"
      },
      "outputs": [
        {
          "name": "stdout",
          "output_type": "stream",
          "text": [
            "        set_num                           name  year  theme_id  num_parts\n",
            "15004  BIGBOX-1  The Ultimate Battle for Chima  2015       571       9987\n",
            "11183   75192-1          UCS Millennium Falcon  2017       171       7541\n",
            "10551   71043-1                Hogwarts Castle  2018       246       6020\n",
            "295     10256-1                      Taj Mahal  2017       673       5923\n",
            "221     10189-1                      Taj Mahal  2008       673       5922\n",
            "theme_id\n",
            "1      167\n",
            "2        4\n",
            "3       18\n",
            "4       39\n",
            "5       12\n",
            "      ... \n",
            "705      8\n",
            "706     52\n",
            "707      2\n",
            "708     43\n",
            "709      4\n",
            "Name: name, Length: 571, dtype: int64\n"
          ]
        }
      ],
      "source": [
        "print(dfsets.head())\n",
        "\n",
        "print(dfsets.groupby('theme_id')['name'].count())\n",
        "\n"
      ]
    },
    {
      "attachments": {},
      "cell_type": "markdown",
      "metadata": {
        "colab_type": "text",
        "id": "J-i6JULGIqvG"
      },
      "source": [
        "**Challenge** Use what you know about HTML markup and tags to display the database schema: https://i.imgur.com/Sg4lcjx.png"
      ]
    },
    {
      "attachments": {},
      "cell_type": "markdown",
      "metadata": {
        "colab_type": "text",
        "id": "27oDwiPHIqvH"
      },
      "source": [
        "<img src=\"https://i.imgur.com/Sg4lcjx.png\">"
      ]
    },
    {
      "attachments": {},
      "cell_type": "markdown",
      "metadata": {
        "colab_type": "text",
        "id": "J_0iuerKIqvG"
      },
      "source": [
        "### Database Schemas, Foreign Keys and Merging DataFrames\n",
        "\n",
        "The themes.csv file has the actual theme names. The sets .csv has <code>theme_ids</code> which link to the <code>id</code> column in the themes.csv. "
      ]
    },
    {
      "attachments": {},
      "cell_type": "markdown",
      "metadata": {
        "colab_type": "text",
        "id": "cp1tMW6oIqvH"
      },
      "source": [
        "**Challenge**: Explore the themes.csv. How is it structured? Search for the name 'Star Wars'. How many <code>id</code>s correspond to this name in the themes.csv? Now use these <code>id</code>s and find the corresponding the sets in the sets.csv (Hint: you'll need to look for matches in the <code>theme_id</code> column)"
      ]
    },
    {
      "cell_type": "code",
      "execution_count": 355,
      "metadata": {
        "colab": {},
        "colab_type": "code",
        "id": "3uN3wN5sIqvH"
      },
      "outputs": [
        {
          "name": "stdout",
          "output_type": "stream",
          "text": [
            "   id            name  parent_id\n",
            "0   1         Technic        NaN\n",
            "1   2  Arctic Technic        1.0\n",
            "2   3     Competition        1.0\n",
            "3   4  Expert Builder        1.0\n",
            "4   5           Model        1.0\n"
          ]
        }
      ],
      "source": [
        "print(dfthemes.head())"
      ]
    },
    {
      "cell_type": "code",
      "execution_count": 359,
      "metadata": {
        "colab": {},
        "colab_type": "code",
        "id": "xAO2XlQGIqvJ"
      },
      "outputs": [
        {
          "data": {
            "text/plain": [
              "array([ 18, 158, 209, 261], dtype=int64)"
            ]
          },
          "execution_count": 359,
          "metadata": {},
          "output_type": "execute_result"
        }
      ],
      "source": [
        "dfthemes[dfthemes['name'].str.contains('Star Wars')]['theme_id'].values"
      ]
    },
    {
      "cell_type": "code",
      "execution_count": 360,
      "metadata": {
        "colab": {},
        "colab_type": "code",
        "id": "qBhckawNIqvN",
        "scrolled": true
      },
      "outputs": [
        {
          "data": {
            "text/html": [
              "<div>\n",
              "<style scoped>\n",
              "    .dataframe tbody tr th:only-of-type {\n",
              "        vertical-align: middle;\n",
              "    }\n",
              "\n",
              "    .dataframe tbody tr th {\n",
              "        vertical-align: top;\n",
              "    }\n",
              "\n",
              "    .dataframe thead th {\n",
              "        text-align: right;\n",
              "    }\n",
              "</style>\n",
              "<table border=\"1\" class=\"dataframe\">\n",
              "  <thead>\n",
              "    <tr style=\"text-align: right;\">\n",
              "      <th></th>\n",
              "      <th>set_num</th>\n",
              "      <th>name</th>\n",
              "      <th>year</th>\n",
              "      <th>theme_id</th>\n",
              "      <th>num_parts</th>\n",
              "    </tr>\n",
              "  </thead>\n",
              "  <tbody>\n",
              "    <tr>\n",
              "      <th>15612</th>\n",
              "      <td>SWMP-1</td>\n",
              "      <td>Star Wars / M&amp;M Mosaic - Promo Set</td>\n",
              "      <td>2005</td>\n",
              "      <td>158</td>\n",
              "      <td>5462</td>\n",
              "    </tr>\n",
              "    <tr>\n",
              "      <th>11216</th>\n",
              "      <td>75222-1</td>\n",
              "      <td>Betrayal at Cloud City</td>\n",
              "      <td>2018</td>\n",
              "      <td>158</td>\n",
              "      <td>2810</td>\n",
              "    </tr>\n",
              "    <tr>\n",
              "      <th>11244</th>\n",
              "      <td>75244-1</td>\n",
              "      <td>Tantive IV</td>\n",
              "      <td>2019</td>\n",
              "      <td>158</td>\n",
              "      <td>1772</td>\n",
              "    </tr>\n",
              "    <tr>\n",
              "      <th>11256</th>\n",
              "      <td>75255-1</td>\n",
              "      <td>Yoda</td>\n",
              "      <td>2019</td>\n",
              "      <td>158</td>\n",
              "      <td>1771</td>\n",
              "    </tr>\n",
              "    <tr>\n",
              "      <th>11180</th>\n",
              "      <td>75190-1</td>\n",
              "      <td>First Order Star Destroyer</td>\n",
              "      <td>2017</td>\n",
              "      <td>158</td>\n",
              "      <td>1416</td>\n",
              "    </tr>\n",
              "    <tr>\n",
              "      <th>...</th>\n",
              "      <td>...</td>\n",
              "      <td>...</td>\n",
              "      <td>...</td>\n",
              "      <td>...</td>\n",
              "      <td>...</td>\n",
              "    </tr>\n",
              "    <tr>\n",
              "      <th>9117</th>\n",
              "      <td>66473-1</td>\n",
              "      <td>Star Wars Super Pack 3 in 1</td>\n",
              "      <td>2013</td>\n",
              "      <td>158</td>\n",
              "      <td>0</td>\n",
              "    </tr>\n",
              "    <tr>\n",
              "      <th>9113</th>\n",
              "      <td>66456-1</td>\n",
              "      <td>Star Wars Super Pack 3 in 1</td>\n",
              "      <td>2013</td>\n",
              "      <td>158</td>\n",
              "      <td>0</td>\n",
              "    </tr>\n",
              "    <tr>\n",
              "      <th>9085</th>\n",
              "      <td>66411-1</td>\n",
              "      <td>Super Pack 3 in 1</td>\n",
              "      <td>2012</td>\n",
              "      <td>158</td>\n",
              "      <td>0</td>\n",
              "    </tr>\n",
              "    <tr>\n",
              "      <th>9095</th>\n",
              "      <td>66431-1</td>\n",
              "      <td>Star Wars Super Pack 3 in 1 (7914, 9488, 9491)</td>\n",
              "      <td>2012</td>\n",
              "      <td>158</td>\n",
              "      <td>0</td>\n",
              "    </tr>\n",
              "    <tr>\n",
              "      <th>9096</th>\n",
              "      <td>66432-1</td>\n",
              "      <td>Super Pack 3 in 1</td>\n",
              "      <td>2012</td>\n",
              "      <td>158</td>\n",
              "      <td>0</td>\n",
              "    </tr>\n",
              "  </tbody>\n",
              "</table>\n",
              "<p>776 rows × 5 columns</p>\n",
              "</div>"
            ],
            "text/plain": [
              "       set_num                                            name  year  \\\n",
              "15612   SWMP-1              Star Wars / M&M Mosaic - Promo Set  2005   \n",
              "11216  75222-1                          Betrayal at Cloud City  2018   \n",
              "11244  75244-1                                      Tantive IV  2019   \n",
              "11256  75255-1                                            Yoda  2019   \n",
              "11180  75190-1                      First Order Star Destroyer  2017   \n",
              "...        ...                                             ...   ...   \n",
              "9117   66473-1                     Star Wars Super Pack 3 in 1  2013   \n",
              "9113   66456-1                     Star Wars Super Pack 3 in 1  2013   \n",
              "9085   66411-1                               Super Pack 3 in 1  2012   \n",
              "9095   66431-1  Star Wars Super Pack 3 in 1 (7914, 9488, 9491)  2012   \n",
              "9096   66432-1                               Super Pack 3 in 1  2012   \n",
              "\n",
              "       theme_id  num_parts  \n",
              "15612       158       5462  \n",
              "11216       158       2810  \n",
              "11244       158       1772  \n",
              "11256       158       1771  \n",
              "11180       158       1416  \n",
              "...         ...        ...  \n",
              "9117        158          0  \n",
              "9113        158          0  \n",
              "9085        158          0  \n",
              "9095        158          0  \n",
              "9096        158          0  \n",
              "\n",
              "[776 rows x 5 columns]"
            ]
          },
          "execution_count": 360,
          "metadata": {},
          "output_type": "execute_result"
        }
      ],
      "source": [
        "dfsets[dfsets['theme_id'].isin(dfthemes[dfthemes['name'].str.contains('Star Wars')]['theme_id'].values)]"
      ]
    },
    {
      "attachments": {},
      "cell_type": "markdown",
      "metadata": {
        "colab_type": "text",
        "id": "SmTCXWKKIqvQ"
      },
      "source": [
        "### Merging (i.e., Combining) DataFrames based on a Key\n"
      ]
    },
    {
      "cell_type": "code",
      "execution_count": 356,
      "metadata": {
        "colab": {},
        "colab_type": "code",
        "id": "esKQULhcIqvR"
      },
      "outputs": [
        {
          "name": "stdout",
          "output_type": "stream",
          "text": [
            "   theme_id            name  parent_id\n",
            "0         1         Technic        NaN\n",
            "1         2  Arctic Technic        1.0\n",
            "2         3     Competition        1.0\n",
            "3         4  Expert Builder        1.0\n",
            "4         5           Model        1.0\n",
            "    set_num                         name_x  year  theme_id  num_parts  \\\n",
            "0  BIGBOX-1  The Ultimate Battle for Chima  2015       571       9987   \n",
            "1   70146-1     Flying Phoenix Fire Temple  2014       571       1300   \n",
            "2   70010-1            The Lion CHI Temple  2013       571       1259   \n",
            "3   70227-1          King Crominus' Rescue  2015       571        863   \n",
            "4   70224-1         Tiger's Mobile Command  2015       571        712   \n",
            "\n",
            "             name_y  parent_id  \n",
            "0  Legends of Chima        NaN  \n",
            "1  Legends of Chima        NaN  \n",
            "2  Legends of Chima        NaN  \n",
            "3  Legends of Chima        NaN  \n",
            "4  Legends of Chima        NaN  \n"
          ]
        }
      ],
      "source": [
        "dfthemes = dfthemes.rename(columns={'id': 'theme_id'})\n",
        "print(dfthemes.head())\n",
        "merged_df = pd.merge(dfsets, dfthemes, on='theme_id')\n",
        "print(merged_df.head())"
      ]
    },
    {
      "cell_type": "code",
      "execution_count": null,
      "metadata": {
        "colab": {},
        "colab_type": "code",
        "id": "i0LobgIvIqvT"
      },
      "outputs": [],
      "source": []
    },
    {
      "cell_type": "code",
      "execution_count": null,
      "metadata": {
        "colab": {},
        "colab_type": "code",
        "id": "I7UMP7VXIqvU"
      },
      "outputs": [],
      "source": []
    }
  ],
  "metadata": {
    "colab": {
      "name": "Lego Analysis for Course (start).ipynb",
      "provenance": []
    },
    "kernelspec": {
      "display_name": "Python 3",
      "language": "python",
      "name": "python3"
    },
    "language_info": {
      "codemirror_mode": {
        "name": "ipython",
        "version": 3
      },
      "file_extension": ".py",
      "mimetype": "text/x-python",
      "name": "python",
      "nbconvert_exporter": "python",
      "pygments_lexer": "ipython3",
      "version": "3.11.2"
    }
  },
  "nbformat": 4,
  "nbformat_minor": 0
}
